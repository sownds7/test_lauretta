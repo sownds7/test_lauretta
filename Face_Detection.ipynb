{
  "nbformat": 4,
  "nbformat_minor": 0,
  "metadata": {
    "colab": {
      "name": "Face Detection.ipynb",
      "version": "0.3.2",
      "provenance": [],
      "include_colab_link": true
    },
    "kernelspec": {
      "name": "python3",
      "display_name": "Python 3"
    },
    "accelerator": "TPU"
  },
  "cells": [
    {
      "cell_type": "markdown",
      "metadata": {
        "id": "view-in-github",
        "colab_type": "text"
      },
      "source": [
        "<a href=\"https://colab.research.google.com/github/sownds7/test_lauretta/blob/master/Face_Detection.ipynb\" target=\"_parent\"><img src=\"https://colab.research.google.com/assets/colab-badge.svg\" alt=\"Open In Colab\"/></a>"
      ]
    },
    {
      "cell_type": "markdown",
      "metadata": {
        "id": "GTJGv-hW_we5",
        "colab_type": "text"
      },
      "source": [
        "Getting input data from URL and  then reading a json response\n"
      ]
    },
    {
      "cell_type": "code",
      "metadata": {
        "id": "hnSIRmIU_WUI",
        "colab_type": "code",
        "outputId": "fbfe5a32-e539-491b-fc52-844b230efefe",
        "colab": {
          "base_uri": "https://localhost:8080/",
          "height": 34
        }
      },
      "source": [
        "import numpy as np\n",
        "import cv2\n",
        "\n",
        "import urllib.request, json \n",
        "with urllib.request.urlopen(\"https://hackattic.com/challenges/basic_face_detection/problem?access_token=9dd1a11e89141b70\") as url:\n",
        "    data = json.loads(url.read().decode())\n",
        "    print(data)"
      ],
      "execution_count": 0,
      "outputs": [
        {
          "output_type": "stream",
          "text": [
            "{'image_url': 'https://hackattic.com/_/faces/65d9a30a.378e.43f1.8eb1.8d1cb32f0ad2'}\n"
          ],
          "name": "stdout"
        }
      ]
    },
    {
      "cell_type": "code",
      "metadata": {
        "id": "FozrD91cAL8y",
        "colab_type": "code",
        "outputId": "2784bb88-563c-433e-bd30-855a4b67243e",
        "colab": {
          "base_uri": "https://localhost:8080/",
          "height": 34
        }
      },
      "source": [
        "\n",
        "print(data['image_url'])\n",
        "\n",
        "# Load an color image in grayscale\n",
        "#img = cv2.imread(data['image_url'])\n",
        "#print (img.shape)\n",
        "#print(height,width,channels)\n",
        "#cv2.imwrite(\"/home/gautam/Destop/result.jpg\", img)\n",
        "\n"
      ],
      "execution_count": 0,
      "outputs": [
        {
          "output_type": "stream",
          "text": [
            "https://hackattic.com/_/faces/65d9a30a.378e.43f1.8eb1.8d1cb32f0ad2\n"
          ],
          "name": "stdout"
        }
      ]
    },
    {
      "cell_type": "code",
      "metadata": {
        "id": "vZIP0HO9Okb4",
        "colab_type": "code",
        "outputId": "53be1f84-b524-49a3-b9da-6d0d0b0e8176",
        "colab": {
          "base_uri": "https://localhost:8080/",
          "height": 34
        }
      },
      "source": [
        "import urllib.request\n",
        "from PIL import Image\n",
        "url = data['image_url']\n",
        "image = Image.open(urllib.request.urlopen(url))\n",
        "width, height = image.size\n",
        "print (width,height)\n",
        "opencvImage = cv2.cvtColor(np.array(image), cv2.COLOR_RGB2BGR)"
      ],
      "execution_count": 0,
      "outputs": [
        {
          "output_type": "stream",
          "text": [
            "800 800\n"
          ],
          "name": "stdout"
        }
      ]
    },
    {
      "cell_type": "code",
      "metadata": {
        "id": "TDOxeWilPjyS",
        "colab_type": "code",
        "outputId": "f40e57f2-f9fa-4d16-bee2-6e834ec971fd",
        "colab": {
          "base_uri": "https://localhost:8080/",
          "height": 34
        }
      },
      "source": [
        "opencvImage.shape\n",
        "opencvImage.dtype\n"
      ],
      "execution_count": 0,
      "outputs": [
        {
          "output_type": "execute_result",
          "data": {
            "text/plain": [
              "dtype('uint8')"
            ]
          },
          "metadata": {
            "tags": []
          },
          "execution_count": 62
        }
      ]
    },
    {
      "cell_type": "code",
      "metadata": {
        "id": "Z8izPsnoRiwF",
        "colab_type": "code",
        "colab": {}
      },
      "source": [
        "#load cascade classifier training file for lbpcascade\n",
        "lbp_face_cascade = cv2.CascadeClassifier('data/lbpcascade_frontalface.xml')\n"
      ],
      "execution_count": 0,
      "outputs": []
    },
    {
      "cell_type": "code",
      "metadata": {
        "id": "2FYsEblyPUvD",
        "colab_type": "code",
        "colab": {}
      },
      "source": [
        "\n",
        "def detect_faces(f_cascade, colored_img, scaleFactor = 1.1):\n",
        "    img_copy = np.copy(colored_img)\n",
        "    #convert the test image to gray image as opencv face detector expects gray images\n",
        "    gray = cv2.cvtColor(img_copy, cv2.COLOR_BGR2GRAY)\n",
        "    \n",
        "    #let's detect multiscale (some images may be closer to camera than others) images\n",
        "    faces = f_cascade.detectMultiScale(gray, scaleFactor=scaleFactor, minNeighbors=5);\n",
        "    \n",
        "    #go over list of faces and draw them as rectangles on original colored img\n",
        "    for (x, y, w, h) in faces:\n",
        "        cv2.rectangle(img_copy, (x, y), (x+w, y+h), (0, 255, 0), 2)\n",
        "        \n",
        "    return img_copy\n",
        "#conver image to RGB and show image\n",
        "#plt.imshow(convertToRGB(faces_detected_img))\n"
      ],
      "execution_count": 0,
      "outputs": []
    },
    {
      "cell_type": "code",
      "metadata": {
        "id": "EN3JBut3RnTk",
        "colab_type": "code",
        "outputId": "75f1b63f-92d7-4437-9cb0-13d3e100071f",
        "colab": {
          "base_uri": "https://localhost:8080/",
          "height": 302
        }
      },
      "source": [
        "#load test image\n",
        "#call our function to detect faces\n",
        "faces_detected_img = detect_faces(lbp_face_cascade, opencvImage)\n"
      ],
      "execution_count": 0,
      "outputs": [
        {
          "output_type": "error",
          "ename": "error",
          "evalue": "ignored",
          "traceback": [
            "\u001b[0;31m---------------------------------------------------------------------------\u001b[0m",
            "\u001b[0;31merror\u001b[0m                                     Traceback (most recent call last)",
            "\u001b[0;32m<ipython-input-66-d8e54015e3c9>\u001b[0m in \u001b[0;36m<module>\u001b[0;34m()\u001b[0m\n\u001b[0;32m----> 1\u001b[0;31m \u001b[0mfaces_detected_img\u001b[0m \u001b[0;34m=\u001b[0m \u001b[0mdetect_faces\u001b[0m\u001b[0;34m(\u001b[0m\u001b[0mlbp_face_cascade\u001b[0m\u001b[0;34m,\u001b[0m \u001b[0mopencvImage\u001b[0m\u001b[0;34m)\u001b[0m\u001b[0;34m\u001b[0m\u001b[0;34m\u001b[0m\u001b[0m\n\u001b[0m",
            "\u001b[0;32m<ipython-input-64-d3219ded37fe>\u001b[0m in \u001b[0;36mdetect_faces\u001b[0;34m(f_cascade, colored_img, scaleFactor)\u001b[0m\n\u001b[1;32m      6\u001b[0m \u001b[0;34m\u001b[0m\u001b[0m\n\u001b[1;32m      7\u001b[0m     \u001b[0;31m#let's detect multiscale (some images may be closer to camera than others) images\u001b[0m\u001b[0;34m\u001b[0m\u001b[0;34m\u001b[0m\u001b[0;34m\u001b[0m\u001b[0m\n\u001b[0;32m----> 8\u001b[0;31m     \u001b[0mfaces\u001b[0m \u001b[0;34m=\u001b[0m \u001b[0mf_cascade\u001b[0m\u001b[0;34m.\u001b[0m\u001b[0mdetectMultiScale\u001b[0m\u001b[0;34m(\u001b[0m\u001b[0mgray\u001b[0m\u001b[0;34m,\u001b[0m \u001b[0mscaleFactor\u001b[0m\u001b[0;34m=\u001b[0m\u001b[0mscaleFactor\u001b[0m\u001b[0;34m,\u001b[0m \u001b[0mminNeighbors\u001b[0m\u001b[0;34m=\u001b[0m\u001b[0;36m5\u001b[0m\u001b[0;34m)\u001b[0m\u001b[0;34m;\u001b[0m\u001b[0;34m\u001b[0m\u001b[0;34m\u001b[0m\u001b[0m\n\u001b[0m\u001b[1;32m      9\u001b[0m \u001b[0;34m\u001b[0m\u001b[0m\n\u001b[1;32m     10\u001b[0m     \u001b[0;31m#go over list of faces and draw them as rectangles on original colored img\u001b[0m\u001b[0;34m\u001b[0m\u001b[0;34m\u001b[0m\u001b[0;34m\u001b[0m\u001b[0m\n",
            "\u001b[0;31merror\u001b[0m: OpenCV(3.4.3) /io/opencv/modules/objdetect/src/cascadedetect.cpp:1698: error: (-215:Assertion failed) !empty() in function 'detectMultiScale'\n"
          ]
        }
      ]
    },
    {
      "cell_type": "code",
      "metadata": {
        "id": "P7f-78S_U2if",
        "colab_type": "code",
        "colab": {}
      },
      "source": [
        "dtype"
      ],
      "execution_count": 0,
      "outputs": []
    }
  ]
}